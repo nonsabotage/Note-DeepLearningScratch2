{
 "cells": [
  {
   "cell_type": "markdown",
   "metadata": {},
   "source": [
    "# リカレントニューラルネットワーク"
   ]
  },
  {
   "cell_type": "markdown",
   "metadata": {},
   "source": [
    "前章までに解説したCBOWでは中間層でコンテキストごとの入力結果に対して「和」を取るため、情報の損失が起きている。例えば「you, say」というコンテキストと「say, you」というコンテキストにおける単語の出現順序の違いは、和を取ることで無視された。\n",
    "\n",
    "それに対してＲＮＮというレイヤーを使うことで、コンテキストの情報が損失することを防ぐことができる。"
   ]
  },
  {
   "cell_type": "markdown",
   "metadata": {},
   "source": [
    "## RNNとは\n",
    "\n",
    "RNNではネットワークの出力が循環することになる。つまり、あるコンテキストの入力に対して、直前のコンテキストにおけるレイヤーの出力も入力として、レイヤーの出力を決める。この構造があることでコンテキストの順序に関する情報が保存することができる。隠れマルコフモデルや、カルマンフィルタに近い構造が見られるということになる。\n",
    "\n",
    "\n",
    "$$\n",
    "\\textrm{h}_t = \\tanh(\\textrm{h}_{t-1}\\textrm{W}_h+\\textrm{x}_t\\textrm{W}_x +b)\n",
    "$$"
   ]
  },
  {
   "cell_type": "code",
   "execution_count": null,
   "metadata": {},
   "outputs": [],
   "source": []
  }
 ],
 "metadata": {
  "kernelspec": {
   "display_name": "Python 3",
   "language": "python",
   "name": "python3"
  },
  "language_info": {
   "codemirror_mode": {
    "name": "ipython",
    "version": 3
   },
   "file_extension": ".py",
   "mimetype": "text/x-python",
   "name": "python",
   "nbconvert_exporter": "python",
   "pygments_lexer": "ipython3",
   "version": "3.6.4"
  },
  "latex_envs": {
   "LaTeX_envs_menu_present": true,
   "autoclose": false,
   "autocomplete": true,
   "bibliofile": "biblio.bib",
   "cite_by": "apalike",
   "current_citInitial": 1,
   "eqLabelWithNumbers": true,
   "eqNumInitial": 1,
   "hotkeys": {
    "equation": "Ctrl-E",
    "itemize": "Ctrl-I"
   },
   "labels_anchors": false,
   "latex_user_defs": false,
   "report_style_numbering": false,
   "user_envs_cfg": false
  },
  "toc": {
   "base_numbering": 1,
   "nav_menu": {},
   "number_sections": true,
   "sideBar": true,
   "skip_h1_title": false,
   "title_cell": "Table of Contents",
   "title_sidebar": "Contents",
   "toc_cell": false,
   "toc_position": {},
   "toc_section_display": true,
   "toc_window_display": false
  }
 },
 "nbformat": 4,
 "nbformat_minor": 2
}
