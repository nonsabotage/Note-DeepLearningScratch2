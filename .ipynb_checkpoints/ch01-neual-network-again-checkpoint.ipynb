{
 "cells": [
  {
   "cell_type": "markdown",
   "metadata": {},
   "source": [
    "# ニューラルネットワークの復習"
   ]
  },
  {
   "cell_type": "markdown",
   "metadata": {},
   "source": [
    "## 数学とPython"
   ]
  },
  {
   "cell_type": "markdown",
   "metadata": {},
   "source": [
    "Pythonを使ってベクトルや行列を生成してみる. "
   ]
  },
  {
   "cell_type": "code",
   "execution_count": 2,
   "metadata": {},
   "outputs": [
    {
     "data": {
      "text/plain": [
       "numpy.ndarray"
      ]
     },
     "execution_count": 2,
     "metadata": {},
     "output_type": "execute_result"
    }
   ],
   "source": [
    "import numpy as np\n",
    "\n",
    "x = np.array([1, 2, 3])\n",
    "x.__class__"
   ]
  },
  {
   "cell_type": "code",
   "execution_count": 3,
   "metadata": {},
   "outputs": [
    {
     "data": {
      "text/plain": [
       "(3,)"
      ]
     },
     "execution_count": 3,
     "metadata": {},
     "output_type": "execute_result"
    }
   ],
   "source": [
    "x.shape"
   ]
  },
  {
   "cell_type": "code",
   "execution_count": 4,
   "metadata": {},
   "outputs": [
    {
     "data": {
      "text/plain": [
       "1"
      ]
     },
     "execution_count": 4,
     "metadata": {},
     "output_type": "execute_result"
    }
   ],
   "source": [
    "x.ndim"
   ]
  },
  {
   "cell_type": "code",
   "execution_count": 6,
   "metadata": {},
   "outputs": [
    {
     "data": {
      "text/plain": [
       "(2, 3)"
      ]
     },
     "execution_count": 6,
     "metadata": {},
     "output_type": "execute_result"
    }
   ],
   "source": [
    "W = np.array([[1, 2, 3], [4, 5, 6]])\n",
    "W.shape"
   ]
  },
  {
   "cell_type": "code",
   "execution_count": 7,
   "metadata": {},
   "outputs": [
    {
     "data": {
      "text/plain": [
       "2"
      ]
     },
     "execution_count": 7,
     "metadata": {},
     "output_type": "execute_result"
    }
   ],
   "source": [
    "W.ndim"
   ]
  },
  {
   "cell_type": "markdown",
   "metadata": {},
   "source": [
    "行列の要素関を計算してみる. "
   ]
  },
  {
   "cell_type": "code",
   "execution_count": 10,
   "metadata": {},
   "outputs": [
    {
     "data": {
      "text/plain": [
       "array([[2, 4, 6],\n",
       "       [5, 7, 9]])"
      ]
     },
     "execution_count": 10,
     "metadata": {},
     "output_type": "execute_result"
    }
   ],
   "source": [
    "W = np.array([[1,2,3],[4,5,6]])\n",
    "X = np.array([[0, 1, 2], [3, 4, 5]])\n",
    "W + x"
   ]
  },
  {
   "cell_type": "code",
   "execution_count": 11,
   "metadata": {},
   "outputs": [
    {
     "data": {
      "text/plain": [
       "array([[ 0,  2,  6],\n",
       "       [12, 20, 30]])"
      ]
     },
     "execution_count": 11,
     "metadata": {},
     "output_type": "execute_result"
    }
   ],
   "source": [
    "W * X"
   ]
  },
  {
   "cell_type": "markdown",
   "metadata": {},
   "source": [
    "### ブロードキャスト\n",
    "\n",
    "numpyの多次元配列では、形状の異なる配列どうしの演算も可能である. "
   ]
  },
  {
   "cell_type": "code",
   "execution_count": 12,
   "metadata": {},
   "outputs": [
    {
     "data": {
      "text/plain": [
       "array([[10, 20],\n",
       "       [30, 40]])"
      ]
     },
     "execution_count": 12,
     "metadata": {},
     "output_type": "execute_result"
    }
   ],
   "source": [
    "A = np.array([[1, 2], [3, 4]])\n",
    "A * 10"
   ]
  },
  {
   "cell_type": "code",
   "execution_count": 13,
   "metadata": {},
   "outputs": [
    {
     "data": {
      "text/plain": [
       "array([[10, 40],\n",
       "       [30, 80]])"
      ]
     },
     "execution_count": 13,
     "metadata": {},
     "output_type": "execute_result"
    }
   ],
   "source": [
    "b = np.array([10, 20])\n",
    "A * b"
   ]
  },
  {
   "cell_type": "markdown",
   "metadata": {},
   "source": [
    "### ベクトルの内積と行列積\n",
    "\n",
    "転地操作などは特に起こってはいないようだ.\n"
   ]
  },
  {
   "cell_type": "code",
   "execution_count": 15,
   "metadata": {},
   "outputs": [
    {
     "data": {
      "text/plain": [
       "32"
      ]
     },
     "execution_count": 15,
     "metadata": {},
     "output_type": "execute_result"
    }
   ],
   "source": [
    "a = np.array([1, 2, 3])\n",
    "b = np.array([4, 5, 6])\n",
    "np.dot(a, b) "
   ]
  },
  {
   "cell_type": "code",
   "execution_count": 16,
   "metadata": {},
   "outputs": [
    {
     "data": {
      "text/plain": [
       "array([[19, 22],\n",
       "       [43, 50]])"
      ]
     },
     "execution_count": 16,
     "metadata": {},
     "output_type": "execute_result"
    }
   ],
   "source": [
    "A = np.array([[1, 2], [3,4]])\n",
    "B = np.array([[5, 6], [7,8]])\n",
    "np.dot(A, B)"
   ]
  },
  {
   "cell_type": "code",
   "execution_count": 18,
   "metadata": {},
   "outputs": [
    {
     "data": {
      "text/plain": [
       "array([ 5, 11])"
      ]
     },
     "execution_count": 18,
     "metadata": {},
     "output_type": "execute_result"
    }
   ],
   "source": [
    "# 行ベクトルを引数にしているのに, そのまま計算がでしまうのは\n",
    "# 若干恐いのだが..\n",
    "np.dot(A, a[:2])"
   ]
  },
  {
   "cell_type": "markdown",
   "metadata": {},
   "source": [
    "numpyについては[100 numpy exercises](http://www.labri.fr/perso/nrougier/teaching/numpy.100/)をやるのが一番よい. "
   ]
  },
  {
   "cell_type": "markdown",
   "metadata": {},
   "source": [
    "## ニューラルネットワークの推論"
   ]
  },
  {
   "cell_type": "code",
   "execution_count": 3,
   "metadata": {},
   "outputs": [],
   "source": [
    "import numpy as np\n",
    "W1 = np.random.randn(2, 4) # 重み\n",
    "b1 = np.random.randn(4) #バイアス\n",
    "x = np.random.randn(10, 2) # 入力\n",
    "h = np.dot(x, W1) + b1"
   ]
  },
  {
   "cell_type": "code",
   "execution_count": 7,
   "metadata": {},
   "outputs": [],
   "source": [
    "def sigmoid (x):\n",
    "    return 1 / (1 + np.exp(-x))"
   ]
  },
  {
   "cell_type": "code",
   "execution_count": 9,
   "metadata": {},
   "outputs": [],
   "source": [
    "W2 = np.random.randn(4,3)\n",
    "b2 = np.random.randn(3)\n",
    "a = sigmoid(h)\n",
    "s = np.dot(a, W2) + b2"
   ]
  },
  {
   "cell_type": "code",
   "execution_count": 10,
   "metadata": {},
   "outputs": [
    {
     "data": {
      "text/plain": [
       "array([[0.44917117, 0.99872365, 0.61989562, 0.97834934],\n",
       "       [0.36657851, 0.95697017, 0.74822877, 0.89497243],\n",
       "       [0.59540909, 0.95757735, 0.80895092, 0.69281392],\n",
       "       [0.84417831, 0.86370153, 0.90049452, 0.1387022 ],\n",
       "       [0.58505863, 0.61271726, 0.87790381, 0.32350186],\n",
       "       [0.49862698, 0.68129517, 0.85537096, 0.48635132],\n",
       "       [0.43122638, 0.89199907, 0.80154119, 0.76031544],\n",
       "       [0.61556464, 0.97093631, 0.80138559, 0.71710026],\n",
       "       [0.75394978, 0.42378589, 0.91886466, 0.08985318],\n",
       "       [0.42833697, 0.88251263, 0.80391274, 0.75282892]])"
      ]
     },
     "execution_count": 10,
     "metadata": {},
     "output_type": "execute_result"
    }
   ],
   "source": [
    "a"
   ]
  },
  {
   "cell_type": "code",
   "execution_count": 13,
   "metadata": {},
   "outputs": [
    {
     "data": {
      "text/plain": [
       "0.4491711688330162"
      ]
     },
     "execution_count": 13,
     "metadata": {},
     "output_type": "execute_result"
    }
   ],
   "source": [
    "sigmoid(h[0,0])"
   ]
  },
  {
   "cell_type": "markdown",
   "metadata": {},
   "source": [
    "> スコアとは「確率」になる前の値である。スコアの値が高ければ高いほど、そのニューロンに血会おうするクラスの確率も高くなる. 一般にはスコアをSoftmax関数に入れて確率値に変換する. "
   ]
  },
  {
   "cell_type": "markdown",
   "metadata": {},
   "source": [
    "### レイヤとしてのクラス化と順伝播の実装\n",
    "\n",
    "本書では次の実装ルールのもとニューラルネットワークを実装したＰｙｔｈｏｎクラスを作成していく. なお, 実装自体はPythonファイルに行うとする. \n",
    "\n",
    "- すべてのレイヤは、メソッドとしてforward()とbackward()を持つ\n",
    "- すべてのレイヤは、インスタンス変数としてparmsとgradsを持つ\n",
    "\n",
    "`py/forward_net.py`を利用して, Affine, Sigmoido, Affineレイヤを経てスコアSを出力するニューラルネットワークを作成する. "
   ]
  },
  {
   "cell_type": "code",
   "execution_count": 1,
   "metadata": {},
   "outputs": [],
   "source": [
    "from pynet import forward_net"
   ]
  },
  {
   "cell_type": "code",
   "execution_count": 2,
   "metadata": {},
   "outputs": [],
   "source": [
    "import numpy as np\n",
    "x = np.random.randn(10, 2)\n",
    "model = forward_net.TwoLayerNet(2, 4, 3)\n",
    "s = model.predict(x)"
   ]
  },
  {
   "cell_type": "code",
   "execution_count": 3,
   "metadata": {},
   "outputs": [
    {
     "data": {
      "text/plain": [
       "array([[-0.00376227,  0.85517399,  0.16611614],\n",
       "       [-0.0862226 ,  0.98878212,  0.20656062],\n",
       "       [-0.32080132,  1.22949549,  0.25314898],\n",
       "       [-0.6421173 ,  1.0057909 , -0.06976051],\n",
       "       [-0.35781459,  0.93511593,  0.03493629],\n",
       "       [ 0.23169698,  0.33067772,  0.00243652],\n",
       "       [ 0.60621753,  0.11973821,  0.45807412],\n",
       "       [ 0.29788205,  0.47360629,  0.16196393],\n",
       "       [ 0.63872655,  0.0241712 ,  0.42569685],\n",
       "       [ 0.20487644,  0.79631997,  0.35448416]])"
      ]
     },
     "execution_count": 3,
     "metadata": {},
     "output_type": "execute_result"
    }
   ],
   "source": [
    "s"
   ]
  },
  {
   "cell_type": "markdown",
   "metadata": {},
   "source": [
    "## ニューラルネットワークの学習\n",
    "\n",
    "\n",
    "ニューラルネットワークではどれだけ学習がうまくいっているのかを示す指標を「損失」という。損失は学習データにおいて、パラメータがどれだけ悪いかをスカラ値として算出したものとなる。\n",
    "多クラス分類を行うニューラルネットワークの場合、損失関数として交差エントロピー誤差（Cross Entropy Error)を用いる場合が多くある. \n",
    "\n",
    "交差エントロピーにはスコアをSoftmaxで変換する必要がある. \n",
    "\n",
    "$$\n",
    "y_k = \\frac{\\exp(s_k)}{\\sum^n_{i=1}\\exp(s_i)}\n",
    "$$\n",
    "\n",
    "この$y_k$はクラスKに所属する確率である. クロスエントロピーはこの値を使って次式で算出される. $t_k$はクラスkが正解であるならば1、不正解ならば0となる値である. いわゆるone-hotベクターであｒ. \n",
    "\n",
    "$$\n",
    "L=-\\sum_kt_k\\log y_k\n",
    "$$\n",
    "\n",
    "さらにミニバッチ処理を考慮したときには交差エントロピー誤差は次式で表される. \n",
    "$y_{nk}はデータnがクラスkに所属する確率である. \n",
    "\n",
    "$$\n",
    "L = -\\frac{1}{N}\\sum_n\\sum_kt_{nk}\\log y_{nk}\n",
    "$$\n",
    "\n",
    "\n",
    "\n",
    "\n"
   ]
  },
  {
   "cell_type": "markdown",
   "metadata": {},
   "source": [
    "### Repeat ノード\n",
    "\n",
    "分岐ノードとは2つの分岐であったが、\n",
    "一般にはＮ個に分岐するノードが考えられる。\n",
    "逆伝搬はＮ個の勾配の総和として求めることができる。\n",
    "\n",
    "\n"
   ]
  },
  {
   "cell_type": "code",
   "execution_count": 4,
   "metadata": {},
   "outputs": [],
   "source": [
    "import numpy as np\n",
    "D, N = 8, 7\n",
    "x = np.random.randn(1,D)#入力\n",
    "y = np.repeat(x, N, axis=0) # forward\n",
    "\n",
    "dy = np.random.randn(N, D)\n",
    "dx = np.sum(dy, axis = 0, keepdims =True) # 行に和を取る、つまり列和"
   ]
  },
  {
   "cell_type": "code",
   "execution_count": 6,
   "metadata": {},
   "outputs": [
    {
     "data": {
      "text/plain": [
       "(1, 8)"
      ]
     },
     "execution_count": 6,
     "metadata": {},
     "output_type": "execute_result"
    }
   ],
   "source": [
    "dx.shape"
   ]
  },
  {
   "cell_type": "markdown",
   "metadata": {},
   "source": [
    "### Sumノード\n",
    "\n",
    "上流からの勾配をすべての→に分配する。これは加算ノードの逆伝搬の自然な拡張となる。\n"
   ]
  },
  {
   "cell_type": "code",
   "execution_count": 7,
   "metadata": {},
   "outputs": [],
   "source": [
    "import numpy as np\n",
    "D, N = 8, 7\n",
    "x = np.random.randn(D, N)\n",
    "y = np.sum(x, axis=0, keepdims=True)\n",
    "dy = np.random.randn(1, D)\n",
    "dx = np.repeat(dy, N, axis=0)"
   ]
  },
  {
   "cell_type": "markdown",
   "metadata": {},
   "source": [
    "### 3点リーダー\n",
    "\n",
    "値の深いコピー。メモリの位置は変えないであたいだけを変更する\n"
   ]
  },
  {
   "cell_type": "code",
   "execution_count": 28,
   "metadata": {},
   "outputs": [
    {
     "name": "stdout",
     "output_type": "stream",
     "text": [
      "2751234343440\n"
     ]
    }
   ],
   "source": [
    "a = np.array([1,2,3])\n",
    "print(id(a))\n",
    "b = np.array([4,5,6])\n",
    "a[...] = b\n",
    "c = b"
   ]
  },
  {
   "cell_type": "code",
   "execution_count": 20,
   "metadata": {},
   "outputs": [
    {
     "data": {
      "text/plain": [
       "2751216855032"
      ]
     },
     "execution_count": 20,
     "metadata": {},
     "output_type": "execute_result"
    }
   ],
   "source": [
    "id(a[0])"
   ]
  },
  {
   "cell_type": "code",
   "execution_count": 21,
   "metadata": {},
   "outputs": [
    {
     "data": {
      "text/plain": [
       "2751216855032"
      ]
     },
     "execution_count": 21,
     "metadata": {},
     "output_type": "execute_result"
    }
   ],
   "source": [
    "id(b[0])"
   ]
  },
  {
   "cell_type": "code",
   "execution_count": 29,
   "metadata": {},
   "outputs": [
    {
     "data": {
      "text/plain": [
       "2751216855320"
      ]
     },
     "execution_count": 29,
     "metadata": {},
     "output_type": "execute_result"
    }
   ],
   "source": [
    "id(c[0])"
   ]
  },
  {
   "cell_type": "code",
   "execution_count": 24,
   "metadata": {},
   "outputs": [
    {
     "data": {
      "text/plain": [
       "2751241446304"
      ]
     },
     "execution_count": 24,
     "metadata": {},
     "output_type": "execute_result"
    }
   ],
   "source": [
    "id(a)"
   ]
  },
  {
   "cell_type": "code",
   "execution_count": 25,
   "metadata": {},
   "outputs": [
    {
     "data": {
      "text/plain": [
       "2751236158528"
      ]
     },
     "execution_count": 25,
     "metadata": {},
     "output_type": "execute_result"
    }
   ],
   "source": [
    "id(b)"
   ]
  },
  {
   "cell_type": "code",
   "execution_count": 26,
   "metadata": {},
   "outputs": [
    {
     "data": {
      "text/plain": [
       "2751236158528"
      ]
     },
     "execution_count": 26,
     "metadata": {},
     "output_type": "execute_result"
    }
   ],
   "source": [
    "id(c)"
   ]
  },
  {
   "cell_type": "code",
   "execution_count": 30,
   "metadata": {},
   "outputs": [],
   "source": [
    "a = np.arange(10).reshape((2,5))"
   ]
  },
  {
   "cell_type": "code",
   "execution_count": 31,
   "metadata": {},
   "outputs": [
    {
     "data": {
      "text/plain": [
       "array([ 5,  7,  9, 11, 13])"
      ]
     },
     "execution_count": 31,
     "metadata": {},
     "output_type": "execute_result"
    }
   ],
   "source": [
    "a.sum(axis=0)"
   ]
  },
  {
   "cell_type": "code",
   "execution_count": 32,
   "metadata": {},
   "outputs": [
    {
     "data": {
      "text/plain": [
       "array([[0, 1, 2, 3, 4],\n",
       "       [5, 6, 7, 8, 9]])"
      ]
     },
     "execution_count": 32,
     "metadata": {},
     "output_type": "execute_result"
    }
   ],
   "source": [
    "a"
   ]
  },
  {
   "cell_type": "markdown",
   "metadata": {},
   "source": [
    "### 重みの更新\n",
    "\n",
    "誤差逆伝搬法によって勾配を求めることができたら、その勾配を使ってニューラルネットワークのパラメータの更新をおこなう。\n",
    "\n",
    "- ミニバッチ：訓練データからランダムにデータを抽出\n",
    "- 勾配の算出：各重みパラメータに関する損失関数の勾配を求める\n",
    "- パラメータの更新：勾配を使って重みパラメータを更新\n",
    "- くり返す\n",
    "\n",
    "勾配は損失を「増やす」方向であるので、勾配の逆方向に更新することで損失関数を減らすことができる。これが勾配降下法という。その中でもＳＧＤという方法がある。これはミニバッチに対する降下法である。\n",
    "\n",
    "$$\n",
    "W\\leftarrow W-\\eta\\frac{\\delta L}{\\delta W}\n",
    "$$\n",
    "\n"
   ]
  },
  {
   "cell_type": "markdown",
   "metadata": {},
   "source": [
    "## ニューラルネットワークで問題を解く"
   ]
  },
  {
   "cell_type": "markdown",
   "metadata": {},
   "source": [
    "### スパイラルデータセット"
   ]
  },
  {
   "cell_type": "code",
   "execution_count": 2,
   "metadata": {},
   "outputs": [],
   "source": [
    "import sys\n",
    "sys.path.append(\"deep-learning-from-scratch-2\")\n",
    "from dataset import spiral"
   ]
  },
  {
   "cell_type": "code",
   "execution_count": 3,
   "metadata": {},
   "outputs": [
    {
     "name": "stdout",
     "output_type": "stream",
     "text": [
      "x (300, 2)\n",
      "t (300, 3)\n"
     ]
    }
   ],
   "source": [
    "import matplotlib.pyplot as plt\n",
    "\n",
    "x, t = spiral.load_data()\n",
    "print('x', x.shape)\n",
    "print('t', t.shape)"
   ]
  },
  {
   "cell_type": "code",
   "execution_count": 4,
   "metadata": {},
   "outputs": [
    {
     "data": {
      "text/plain": [
       "<matplotlib.collections.PathCollection at 0x1a2dc177198>"
      ]
     },
     "execution_count": 4,
     "metadata": {},
     "output_type": "execute_result"
    },
    {
     "data": {
      "image/png": "[encoded data removed]",
      "text/plain": [
       "<matplotlib.figure.Figure at 0x1a2dc0c3898>"
      ]
     },
     "metadata": {},
     "output_type": "display_data"
    }
   ],
   "source": [
    "plt.scatter(x[:,0], x[:, 1], c=t.argmax(axis=1))"
   ]
  },
  {
   "cell_type": "markdown",
   "metadata": {},
   "source": [
    "xで保持した二次元データに対して、tがone-hotベクターで3水準の分類情報を保持している. これをニューラルネットワークで分類できるのかを挑戦してみる. "
   ]
  },
  {
   "cell_type": "code",
   "execution_count": 8,
   "metadata": {
    "hide_input": true,
    "scrolled": true
   },
   "outputs": [
    {
     "data": {
      "text/plain": [
       "array([0, 0, 0, 0, 0, 0, 0, 0, 0, 0, 0, 0, 0, 0, 0, 0, 0, 0, 0, 0, 0, 0,\n",
       "       0, 0, 0, 0, 0, 0, 0, 0, 0, 0, 0, 0, 0, 0, 0, 0, 0, 0, 0, 0, 0, 0,\n",
       "       0, 0, 0, 0, 0, 0, 0, 0, 0, 0, 0, 0, 0, 0, 0, 0, 0, 0, 0, 0, 0, 0,\n",
       "       0, 0, 0, 0, 0, 0, 0, 0, 0, 0, 0, 0, 0, 0, 0, 0, 0, 0, 0, 0, 0, 0,\n",
       "       0, 0, 0, 0, 0, 0, 0, 0, 0, 0, 0, 0, 1, 1, 1, 1, 1, 1, 1, 1, 1, 1,\n",
       "       1, 1, 1, 1, 1, 1, 1, 1, 1, 1, 1, 1, 1, 1, 1, 1, 1, 1, 1, 1, 1, 1,\n",
       "       1, 1, 1, 1, 1, 1, 1, 1, 1, 1, 1, 1, 1, 1, 1, 1, 1, 1, 1, 1, 1, 1,\n",
       "       1, 1, 1, 1, 1, 1, 1, 1, 1, 1, 1, 1, 1, 1, 1, 1, 1, 1, 1, 1, 1, 1,\n",
       "       1, 1, 1, 1, 1, 1, 1, 1, 1, 1, 1, 1, 1, 1, 1, 1, 1, 1, 1, 1, 1, 1,\n",
       "       1, 1, 2, 2, 2, 2, 2, 2, 2, 2, 2, 2, 2, 2, 2, 2, 2, 2, 2, 2, 2, 2,\n",
       "       2, 2, 2, 2, 2, 2, 2, 2, 2, 2, 2, 2, 2, 2, 2, 2, 2, 2, 2, 2, 2, 2,\n",
       "       2, 2, 2, 2, 2, 2, 2, 2, 2, 2, 2, 2, 2, 2, 2, 2, 2, 2, 2, 2, 2, 2,\n",
       "       2, 2, 2, 2, 2, 2, 2, 2, 2, 2, 2, 2, 2, 2, 2, 2, 2, 2, 2, 2, 2, 2,\n",
       "       2, 2, 2, 2, 2, 2, 2, 2, 2, 2, 2, 2, 2, 2], dtype=int64)"
      ]
     },
     "execution_count": 8,
     "metadata": {},
     "output_type": "execute_result"
    }
   ],
   "source": [
    "t.argmax(axis=1)"
   ]
  },
  {
   "cell_type": "markdown",
   "metadata": {},
   "source": [
    "### 学習用のソースコード"
   ]
  },
  {
   "cell_type": "code",
   "execution_count": 1,
   "metadata": {},
   "outputs": [],
   "source": [
    "import sys\n",
    "sys.path.append(\"deep-learning-from-scratch-2\")\n",
    "\n",
    "import numpy as np\n",
    "from pynet.optimizer import SGD\n",
    "from dataset import spiral\n",
    "import matplotlib.pyplot as plt\n",
    "from pynet.two_layer_net import TwoLayerNet"
   ]
  },
  {
   "cell_type": "code",
   "execution_count": 2,
   "metadata": {},
   "outputs": [],
   "source": [
    "# ハイパパラメータの調整\n",
    "max_epoch = 300\n",
    "batch_size = 30\n",
    "hidden_size = 10\n",
    "learning_rate = 1."
   ]
  },
  {
   "cell_type": "code",
   "execution_count": 4,
   "metadata": {},
   "outputs": [
    {
     "name": "stdout",
     "output_type": "stream",
     "text": [
      "| epch 1 | iter 10 / 10 | loss 1.20\n",
      "| epch 2 | iter 10 / 10 | loss 1.17\n",
      "| epch 3 | iter 10 / 10 | loss 1.14\n",
      "| epch 4 | iter 10 / 10 | loss 1.11\n",
      "| epch 5 | iter 10 / 10 | loss 1.14\n",
      "| epch 6 | iter 10 / 10 | loss 1.12\n",
      "| epch 7 | iter 10 / 10 | loss 1.09\n",
      "| epch 8 | iter 10 / 10 | loss 1.05\n",
      "| epch 9 | iter 10 / 10 | loss 1.07\n",
      "| epch 10 | iter 10 / 10 | loss 1.08\n",
      "| epch 11 | iter 10 / 10 | loss 1.03\n",
      "| epch 12 | iter 10 / 10 | loss 1.00\n",
      "| epch 13 | iter 10 / 10 | loss 0.97\n",
      "| epch 14 | iter 10 / 10 | loss 0.95\n",
      "| epch 15 | iter 10 / 10 | loss 0.98\n",
      "| epch 16 | iter 10 / 10 | loss 0.96\n",
      "| epch 17 | iter 10 / 10 | loss 0.92\n",
      "| epch 18 | iter 10 / 10 | loss 0.91\n",
      "| epch 19 | iter 10 / 10 | loss 0.93\n",
      "| epch 20 | iter 10 / 10 | loss 0.91\n",
      "| epch 21 | iter 10 / 10 | loss 0.91\n",
      "| epch 22 | iter 10 / 10 | loss 0.86\n",
      "| epch 23 | iter 10 / 10 | loss 0.87\n",
      "| epch 24 | iter 10 / 10 | loss 0.86\n",
      "| epch 25 | iter 10 / 10 | loss 0.84\n",
      "| epch 26 | iter 10 / 10 | loss 0.80\n",
      "| epch 27 | iter 10 / 10 | loss 0.81\n",
      "| epch 28 | iter 10 / 10 | loss 0.81\n",
      "| epch 29 | iter 10 / 10 | loss 0.78\n",
      "| epch 30 | iter 10 / 10 | loss 0.76\n",
      "| epch 31 | iter 10 / 10 | loss 0.77\n",
      "| epch 32 | iter 10 / 10 | loss 0.76\n",
      "| epch 33 | iter 10 / 10 | loss 0.78\n",
      "| epch 34 | iter 10 / 10 | loss 0.76\n",
      "| epch 35 | iter 10 / 10 | loss 0.80\n",
      "| epch 36 | iter 10 / 10 | loss 0.75\n",
      "| epch 37 | iter 10 / 10 | loss 0.75\n",
      "| epch 38 | iter 10 / 10 | loss 0.74\n",
      "| epch 39 | iter 10 / 10 | loss 0.74\n",
      "| epch 40 | iter 10 / 10 | loss 0.75\n",
      "| epch 41 | iter 10 / 10 | loss 0.76\n",
      "| epch 42 | iter 10 / 10 | loss 0.77\n",
      "| epch 43 | iter 10 / 10 | loss 0.73\n",
      "| epch 44 | iter 10 / 10 | loss 0.78\n",
      "| epch 45 | iter 10 / 10 | loss 0.75\n",
      "| epch 46 | iter 10 / 10 | loss 0.72\n",
      "| epch 47 | iter 10 / 10 | loss 0.73\n",
      "| epch 48 | iter 10 / 10 | loss 0.74\n",
      "| epch 49 | iter 10 / 10 | loss 0.71\n",
      "| epch 50 | iter 10 / 10 | loss 0.70\n",
      "| epch 51 | iter 10 / 10 | loss 0.72\n",
      "| epch 52 | iter 10 / 10 | loss 0.72\n",
      "| epch 53 | iter 10 / 10 | loss 0.72\n",
      "| epch 54 | iter 10 / 10 | loss 0.70\n",
      "| epch 55 | iter 10 / 10 | loss 0.71\n",
      "| epch 56 | iter 10 / 10 | loss 0.70\n",
      "| epch 57 | iter 10 / 10 | loss 0.70\n",
      "| epch 58 | iter 10 / 10 | loss 0.69\n",
      "| epch 59 | iter 10 / 10 | loss 0.68\n",
      "| epch 60 | iter 10 / 10 | loss 0.68\n",
      "| epch 61 | iter 10 / 10 | loss 0.67\n",
      "| epch 62 | iter 10 / 10 | loss 0.66\n",
      "| epch 63 | iter 10 / 10 | loss 0.66\n",
      "| epch 64 | iter 10 / 10 | loss 0.64\n",
      "| epch 65 | iter 10 / 10 | loss 0.63\n",
      "| epch 66 | iter 10 / 10 | loss 0.64\n",
      "| epch 67 | iter 10 / 10 | loss 0.62\n",
      "| epch 68 | iter 10 / 10 | loss 0.63\n",
      "| epch 69 | iter 10 / 10 | loss 0.62\n",
      "| epch 70 | iter 10 / 10 | loss 0.62\n",
      "| epch 71 | iter 10 / 10 | loss 0.59\n",
      "| epch 72 | iter 10 / 10 | loss 0.59\n",
      "| epch 73 | iter 10 / 10 | loss 0.58\n",
      "| epch 74 | iter 10 / 10 | loss 0.58\n",
      "| epch 75 | iter 10 / 10 | loss 0.58\n",
      "| epch 76 | iter 10 / 10 | loss 0.57\n",
      "| epch 77 | iter 10 / 10 | loss 0.55\n",
      "| epch 78 | iter 10 / 10 | loss 0.55\n",
      "| epch 79 | iter 10 / 10 | loss 0.53\n",
      "| epch 80 | iter 10 / 10 | loss 0.53\n",
      "| epch 81 | iter 10 / 10 | loss 0.52\n",
      "| epch 82 | iter 10 / 10 | loss 0.51\n",
      "| epch 83 | iter 10 / 10 | loss 0.51\n",
      "| epch 84 | iter 10 / 10 | loss 0.51\n",
      "| epch 85 | iter 10 / 10 | loss 0.50\n",
      "| epch 86 | iter 10 / 10 | loss 0.48\n",
      "| epch 87 | iter 10 / 10 | loss 0.47\n",
      "| epch 88 | iter 10 / 10 | loss 0.47\n",
      "| epch 89 | iter 10 / 10 | loss 0.47\n",
      "| epch 90 | iter 10 / 10 | loss 0.45\n",
      "| epch 91 | iter 10 / 10 | loss 0.44\n",
      "| epch 92 | iter 10 / 10 | loss 0.44\n",
      "| epch 93 | iter 10 / 10 | loss 0.43\n",
      "| epch 94 | iter 10 / 10 | loss 0.42\n",
      "| epch 95 | iter 10 / 10 | loss 0.41\n",
      "| epch 96 | iter 10 / 10 | loss 0.40\n",
      "| epch 97 | iter 10 / 10 | loss 0.42\n",
      "| epch 98 | iter 10 / 10 | loss 0.40\n",
      "| epch 99 | iter 10 / 10 | loss 0.39\n",
      "| epch 100 | iter 10 / 10 | loss 0.39\n",
      "| epch 101 | iter 10 / 10 | loss 0.38\n",
      "| epch 102 | iter 10 / 10 | loss 0.38\n",
      "| epch 103 | iter 10 / 10 | loss 0.36\n",
      "| epch 104 | iter 10 / 10 | loss 0.37\n",
      "| epch 105 | iter 10 / 10 | loss 0.35\n",
      "| epch 106 | iter 10 / 10 | loss 0.36\n",
      "| epch 107 | iter 10 / 10 | loss 0.35\n",
      "| epch 108 | iter 10 / 10 | loss 0.34\n",
      "| epch 109 | iter 10 / 10 | loss 0.34\n",
      "| epch 110 | iter 10 / 10 | loss 0.33\n",
      "| epch 111 | iter 10 / 10 | loss 0.32\n",
      "| epch 112 | iter 10 / 10 | loss 0.32\n",
      "| epch 113 | iter 10 / 10 | loss 0.32\n",
      "| epch 114 | iter 10 / 10 | loss 0.31\n",
      "| epch 115 | iter 10 / 10 | loss 0.30\n",
      "| epch 116 | iter 10 / 10 | loss 0.31\n",
      "| epch 117 | iter 10 / 10 | loss 0.30\n",
      "| epch 118 | iter 10 / 10 | loss 0.30\n",
      "| epch 119 | iter 10 / 10 | loss 0.29\n",
      "| epch 120 | iter 10 / 10 | loss 0.28\n",
      "| epch 121 | iter 10 / 10 | loss 0.29\n",
      "| epch 122 | iter 10 / 10 | loss 0.28\n",
      "| epch 123 | iter 10 / 10 | loss 0.27\n",
      "| epch 124 | iter 10 / 10 | loss 0.28\n",
      "| epch 125 | iter 10 / 10 | loss 0.27\n",
      "| epch 126 | iter 10 / 10 | loss 0.26\n",
      "| epch 127 | iter 10 / 10 | loss 0.27\n",
      "| epch 128 | iter 10 / 10 | loss 0.27\n",
      "| epch 129 | iter 10 / 10 | loss 0.28\n",
      "| epch 130 | iter 10 / 10 | loss 0.27\n",
      "| epch 131 | iter 10 / 10 | loss 0.25\n",
      "| epch 132 | iter 10 / 10 | loss 0.26\n",
      "| epch 133 | iter 10 / 10 | loss 0.25\n",
      "| epch 134 | iter 10 / 10 | loss 0.25\n",
      "| epch 135 | iter 10 / 10 | loss 0.25\n",
      "| epch 136 | iter 10 / 10 | loss 0.25\n",
      "| epch 137 | iter 10 / 10 | loss 0.24\n",
      "| epch 138 | iter 10 / 10 | loss 0.24\n",
      "| epch 139 | iter 10 / 10 | loss 0.24\n",
      "| epch 140 | iter 10 / 10 | loss 0.24\n",
      "| epch 141 | iter 10 / 10 | loss 0.23\n",
      "| epch 142 | iter 10 / 10 | loss 0.23\n",
      "| epch 143 | iter 10 / 10 | loss 0.25\n",
      "| epch 144 | iter 10 / 10 | loss 0.23\n",
      "| epch 145 | iter 10 / 10 | loss 0.23\n",
      "| epch 146 | iter 10 / 10 | loss 0.22\n",
      "| epch 147 | iter 10 / 10 | loss 0.22\n",
      "| epch 148 | iter 10 / 10 | loss 0.22\n",
      "| epch 149 | iter 10 / 10 | loss 0.22\n",
      "| epch 150 | iter 10 / 10 | loss 0.22\n",
      "| epch 151 | iter 10 / 10 | loss 0.22\n",
      "| epch 152 | iter 10 / 10 | loss 0.22\n",
      "| epch 153 | iter 10 / 10 | loss 0.21\n",
      "| epch 154 | iter 10 / 10 | loss 0.21\n",
      "| epch 155 | iter 10 / 10 | loss 0.21\n",
      "| epch 156 | iter 10 / 10 | loss 0.21\n",
      "| epch 157 | iter 10 / 10 | loss 0.21\n",
      "| epch 158 | iter 10 / 10 | loss 0.20\n",
      "| epch 159 | iter 10 / 10 | loss 0.20\n",
      "| epch 160 | iter 10 / 10 | loss 0.20\n",
      "| epch 161 | iter 10 / 10 | loss 0.21\n",
      "| epch 162 | iter 10 / 10 | loss 0.21\n",
      "| epch 163 | iter 10 / 10 | loss 0.20\n",
      "| epch 164 | iter 10 / 10 | loss 0.20\n",
      "| epch 165 | iter 10 / 10 | loss 0.20\n",
      "| epch 166 | iter 10 / 10 | loss 0.20\n",
      "| epch 167 | iter 10 / 10 | loss 0.20\n",
      "| epch 168 | iter 10 / 10 | loss 0.19\n",
      "| epch 169 | iter 10 / 10 | loss 0.20\n",
      "| epch 170 | iter 10 / 10 | loss 0.19\n",
      "| epch 171 | iter 10 / 10 | loss 0.19\n",
      "| epch 172 | iter 10 / 10 | loss 0.19\n",
      "| epch 173 | iter 10 / 10 | loss 0.19\n",
      "| epch 174 | iter 10 / 10 | loss 0.20\n",
      "| epch 175 | iter 10 / 10 | loss 0.19\n",
      "| epch 176 | iter 10 / 10 | loss 0.18\n",
      "| epch 177 | iter 10 / 10 | loss 0.18\n",
      "| epch 178 | iter 10 / 10 | loss 0.18\n",
      "| epch 179 | iter 10 / 10 | loss 0.18\n",
      "| epch 180 | iter 10 / 10 | loss 0.19\n",
      "| epch 181 | iter 10 / 10 | loss 0.18\n",
      "| epch 182 | iter 10 / 10 | loss 0.18\n",
      "| epch 183 | iter 10 / 10 | loss 0.18\n",
      "| epch 184 | iter 10 / 10 | loss 0.17\n",
      "| epch 185 | iter 10 / 10 | loss 0.18\n",
      "| epch 186 | iter 10 / 10 | loss 0.18\n",
      "| epch 187 | iter 10 / 10 | loss 0.18\n",
      "| epch 188 | iter 10 / 10 | loss 0.18\n",
      "| epch 189 | iter 10 / 10 | loss 0.17\n",
      "| epch 190 | iter 10 / 10 | loss 0.17\n",
      "| epch 191 | iter 10 / 10 | loss 0.18\n",
      "| epch 192 | iter 10 / 10 | loss 0.17\n",
      "| epch 193 | iter 10 / 10 | loss 0.19\n",
      "| epch 194 | iter 10 / 10 | loss 0.17\n",
      "| epch 195 | iter 10 / 10 | loss 0.17\n",
      "| epch 196 | iter 10 / 10 | loss 0.17\n",
      "| epch 197 | iter 10 / 10 | loss 0.17\n",
      "| epch 198 | iter 10 / 10 | loss 0.17\n",
      "| epch 199 | iter 10 / 10 | loss 0.17\n",
      "| epch 200 | iter 10 / 10 | loss 0.17\n",
      "| epch 201 | iter 10 / 10 | loss 0.17\n",
      "| epch 202 | iter 10 / 10 | loss 0.16\n",
      "| epch 203 | iter 10 / 10 | loss 0.17\n",
      "| epch 204 | iter 10 / 10 | loss 0.17\n",
      "| epch 205 | iter 10 / 10 | loss 0.17\n",
      "| epch 206 | iter 10 / 10 | loss 0.17\n",
      "| epch 207 | iter 10 / 10 | loss 0.16\n",
      "| epch 208 | iter 10 / 10 | loss 0.16\n",
      "| epch 209 | iter 10 / 10 | loss 0.15\n",
      "| epch 210 | iter 10 / 10 | loss 0.17\n",
      "| epch 211 | iter 10 / 10 | loss 0.16\n",
      "| epch 212 | iter 10 / 10 | loss 0.17\n",
      "| epch 213 | iter 10 / 10 | loss 0.15\n",
      "| epch 214 | iter 10 / 10 | loss 0.16\n",
      "| epch 215 | iter 10 / 10 | loss 0.16\n",
      "| epch 216 | iter 10 / 10 | loss 0.15\n",
      "| epch 217 | iter 10 / 10 | loss 0.16\n",
      "| epch 218 | iter 10 / 10 | loss 0.16\n",
      "| epch 219 | iter 10 / 10 | loss 0.17\n",
      "| epch 220 | iter 10 / 10 | loss 0.15\n",
      "| epch 221 | iter 10 / 10 | loss 0.15\n",
      "| epch 222 | iter 10 / 10 | loss 0.16\n",
      "| epch 223 | iter 10 / 10 | loss 0.16\n"
     ]
    },
    {
     "name": "stdout",
     "output_type": "stream",
     "text": [
      "| epch 224 | iter 10 / 10 | loss 0.16\n",
      "| epch 225 | iter 10 / 10 | loss 0.15\n",
      "| epch 226 | iter 10 / 10 | loss 0.16\n",
      "| epch 227 | iter 10 / 10 | loss 0.15\n",
      "| epch 228 | iter 10 / 10 | loss 0.15\n",
      "| epch 229 | iter 10 / 10 | loss 0.15\n",
      "| epch 230 | iter 10 / 10 | loss 0.15\n",
      "| epch 231 | iter 10 / 10 | loss 0.16\n",
      "| epch 232 | iter 10 / 10 | loss 0.15\n",
      "| epch 233 | iter 10 / 10 | loss 0.15\n",
      "| epch 234 | iter 10 / 10 | loss 0.15\n",
      "| epch 235 | iter 10 / 10 | loss 0.15\n",
      "| epch 236 | iter 10 / 10 | loss 0.15\n",
      "| epch 237 | iter 10 / 10 | loss 0.15\n",
      "| epch 238 | iter 10 / 10 | loss 0.15\n",
      "| epch 239 | iter 10 / 10 | loss 0.14\n",
      "| epch 240 | iter 10 / 10 | loss 0.15\n",
      "| epch 241 | iter 10 / 10 | loss 0.15\n",
      "| epch 242 | iter 10 / 10 | loss 0.16\n",
      "| epch 243 | iter 10 / 10 | loss 0.14\n",
      "| epch 244 | iter 10 / 10 | loss 0.15\n",
      "| epch 245 | iter 10 / 10 | loss 0.15\n",
      "| epch 246 | iter 10 / 10 | loss 0.15\n",
      "| epch 247 | iter 10 / 10 | loss 0.15\n",
      "| epch 248 | iter 10 / 10 | loss 0.14\n",
      "| epch 249 | iter 10 / 10 | loss 0.15\n",
      "| epch 250 | iter 10 / 10 | loss 0.14\n",
      "| epch 251 | iter 10 / 10 | loss 0.14\n",
      "| epch 252 | iter 10 / 10 | loss 0.14\n",
      "| epch 253 | iter 10 / 10 | loss 0.15\n",
      "| epch 254 | iter 10 / 10 | loss 0.14\n",
      "| epch 255 | iter 10 / 10 | loss 0.14\n",
      "| epch 256 | iter 10 / 10 | loss 0.14\n",
      "| epch 257 | iter 10 / 10 | loss 0.14\n",
      "| epch 258 | iter 10 / 10 | loss 0.13\n",
      "| epch 259 | iter 10 / 10 | loss 0.13\n",
      "| epch 260 | iter 10 / 10 | loss 0.14\n",
      "| epch 261 | iter 10 / 10 | loss 0.14\n",
      "| epch 262 | iter 10 / 10 | loss 0.14\n",
      "| epch 263 | iter 10 / 10 | loss 0.14\n",
      "| epch 264 | iter 10 / 10 | loss 0.14\n",
      "| epch 265 | iter 10 / 10 | loss 0.13\n",
      "| epch 266 | iter 10 / 10 | loss 0.14\n",
      "| epch 267 | iter 10 / 10 | loss 0.14\n",
      "| epch 268 | iter 10 / 10 | loss 0.13\n",
      "| epch 269 | iter 10 / 10 | loss 0.13\n",
      "| epch 270 | iter 10 / 10 | loss 0.13\n",
      "| epch 271 | iter 10 / 10 | loss 0.13\n",
      "| epch 272 | iter 10 / 10 | loss 0.13\n",
      "| epch 273 | iter 10 / 10 | loss 0.14\n",
      "| epch 274 | iter 10 / 10 | loss 0.13\n",
      "| epch 275 | iter 10 / 10 | loss 0.13\n",
      "| epch 276 | iter 10 / 10 | loss 0.13\n",
      "| epch 277 | iter 10 / 10 | loss 0.13\n",
      "| epch 278 | iter 10 / 10 | loss 0.13\n",
      "| epch 279 | iter 10 / 10 | loss 0.13\n",
      "| epch 280 | iter 10 / 10 | loss 0.13\n",
      "| epch 281 | iter 10 / 10 | loss 0.13\n",
      "| epch 282 | iter 10 / 10 | loss 0.13\n",
      "| epch 283 | iter 10 / 10 | loss 0.13\n",
      "| epch 284 | iter 10 / 10 | loss 0.13\n",
      "| epch 285 | iter 10 / 10 | loss 0.13\n",
      "| epch 286 | iter 10 / 10 | loss 0.13\n",
      "| epch 287 | iter 10 / 10 | loss 0.13\n",
      "| epch 288 | iter 10 / 10 | loss 0.13\n",
      "| epch 289 | iter 10 / 10 | loss 0.12\n",
      "| epch 290 | iter 10 / 10 | loss 0.13\n",
      "| epch 291 | iter 10 / 10 | loss 0.13\n",
      "| epch 292 | iter 10 / 10 | loss 0.13\n",
      "| epch 293 | iter 10 / 10 | loss 0.13\n",
      "| epch 294 | iter 10 / 10 | loss 0.13\n",
      "| epch 295 | iter 10 / 10 | loss 0.13\n",
      "| epch 296 | iter 10 / 10 | loss 0.12\n",
      "| epch 297 | iter 10 / 10 | loss 0.12\n",
      "| epch 298 | iter 10 / 10 | loss 0.11\n",
      "| epch 299 | iter 10 / 10 | loss 0.14\n",
      "| epch 300 | iter 10 / 10 | loss 0.12\n"
     ]
    }
   ],
   "source": [
    "# データの読み込み、モデルとオプティマイザの生成\n",
    "x, t = spiral.load_data()\n",
    "model = TwoLayerNet(input_size=2, hidden_size=hidden_size, output_size=3)\n",
    "optimizer = SGD(lr = learning_rate)\n",
    "\n",
    "# 学習でしようする変数\n",
    "data_size = len(x)\n",
    "max_iters = data_size // batch_size\n",
    "total_loss = 0\n",
    "loss_count = 0\n",
    "loss_list = []\n",
    "\n",
    "for epoch in range(max_epoch):\n",
    "    idx = np.random.permutation(data_size)\n",
    "    x = x[idx]\n",
    "    t = t[idx]\n",
    "    \n",
    "    for iters in range(max_iters):\n",
    "        batch_x = x[iters * batch_size:(iters+1)*batch_size]\n",
    "        batch_t = t[iters * batch_size:(iters+1)*batch_size]\n",
    "        \n",
    "        # 勾配を求めてパラメータを更新\n",
    "        loss = model.forward(batch_x, batch_t)\n",
    "        \n",
    "        model.backward()\n",
    "        optimizer.update(model.params, model.grads)\n",
    "        \n",
    "        total_loss += loss\n",
    "        loss_count += 1\n",
    "        \n",
    "        # 学習経過を出力\n",
    "        if (iters + 1) % 10 == 0:\n",
    "            avg_loss = total_loss / loss_count\n",
    "            print('| epch %d | iter %d / %d | loss %.2f' \n",
    "                 % (epoch+1, iters+1, max_iters, avg_loss))\n",
    "            loss_list.append(avg_loss)\n",
    "            total_loss, loss_count = 0, 0\n",
    "              \n",
    "    \n",
    "    "
   ]
  },
  {
   "cell_type": "code",
   "execution_count": 18,
   "metadata": {},
   "outputs": [
    {
     "data": {
      "text/plain": [
       "[<matplotlib.lines.Line2D at 0x207d0575668>]"
      ]
     },
     "execution_count": 18,
     "metadata": {},
     "output_type": "execute_result"
    },
    {
     "data": {
      "image/png": "[encoded data removed]",
      "text/plain": [
       "<matplotlib.figure.Figure at 0x207cef21630>"
      ]
     },
     "metadata": {},
     "output_type": "display_data"
    }
   ],
   "source": [
    "plt.plot(loss_list)"
   ]
  },
  {
   "cell_type": "markdown",
   "metadata": {},
   "source": [
    "### Trainerクラス\n",
    "\n",
    "先ほど書いたような学習の処理を毎度記述するのは大変である。\n",
    "そこで、Trainerクラスで児童かを行う. \n",
    "\n"
   ]
  },
  {
   "cell_type": "code",
   "execution_count": 19,
   "metadata": {},
   "outputs": [],
   "source": [
    "from pynet.trainer import Trainer"
   ]
  },
  {
   "cell_type": "code",
   "execution_count": 20,
   "metadata": {},
   "outputs": [],
   "source": [
    "batch_size = 30\n",
    "hidden_size = 10\n",
    "learning_rate = 1.0"
   ]
  },
  {
   "cell_type": "code",
   "execution_count": 22,
   "metadata": {},
   "outputs": [
    {
     "name": "stdout",
     "output_type": "stream",
     "text": [
      "| epoch 1 |  iter 1 / 10 | time 0[s] | loss 1.41\n",
      "| epoch 2 |  iter 1 / 10 | time 0[s] | loss 1.18\n",
      "| epoch 3 |  iter 1 / 10 | time 0[s] | loss 1.15\n",
      "| epoch 4 |  iter 1 / 10 | time 0[s] | loss 1.15\n",
      "| epoch 5 |  iter 1 / 10 | time 0[s] | loss 1.11\n",
      "| epoch 6 |  iter 1 / 10 | time 0[s] | loss 1.14\n",
      "| epoch 7 |  iter 1 / 10 | time 0[s] | loss 1.11\n",
      "| epoch 8 |  iter 1 / 10 | time 0[s] | loss 1.10\n",
      "| epoch 9 |  iter 1 / 10 | time 0[s] | loss 1.06\n",
      "| epoch 10 |  iter 1 / 10 | time 0[s] | loss 1.09\n",
      "| epoch 11 |  iter 1 / 10 | time 0[s] | loss 1.05\n",
      "| epoch 12 |  iter 1 / 10 | time 0[s] | loss 1.04\n",
      "| epoch 13 |  iter 1 / 10 | time 0[s] | loss 0.99\n",
      "| epoch 14 |  iter 1 / 10 | time 0[s] | loss 0.97\n",
      "| epoch 15 |  iter 1 / 10 | time 0[s] | loss 0.95\n",
      "| epoch 16 |  iter 1 / 10 | time 0[s] | loss 0.97\n",
      "| epoch 17 |  iter 1 / 10 | time 0[s] | loss 0.96\n",
      "| epoch 18 |  iter 1 / 10 | time 0[s] | loss 0.93\n",
      "| epoch 19 |  iter 1 / 10 | time 0[s] | loss 0.92\n",
      "| epoch 20 |  iter 1 / 10 | time 0[s] | loss 0.91\n",
      "| epoch 21 |  iter 1 / 10 | time 0[s] | loss 0.92\n",
      "| epoch 22 |  iter 1 / 10 | time 0[s] | loss 0.90\n",
      "| epoch 23 |  iter 1 / 10 | time 0[s] | loss 0.86\n",
      "| epoch 24 |  iter 1 / 10 | time 0[s] | loss 0.88\n",
      "| epoch 25 |  iter 1 / 10 | time 0[s] | loss 0.85\n",
      "| epoch 26 |  iter 1 / 10 | time 0[s] | loss 0.84\n",
      "| epoch 27 |  iter 1 / 10 | time 0[s] | loss 0.80\n",
      "| epoch 28 |  iter 1 / 10 | time 0[s] | loss 0.80\n",
      "| epoch 29 |  iter 1 / 10 | time 0[s] | loss 0.81\n",
      "| epoch 30 |  iter 1 / 10 | time 0[s] | loss 0.78\n",
      "| epoch 31 |  iter 1 / 10 | time 0[s] | loss 0.74\n",
      "| epoch 32 |  iter 1 / 10 | time 0[s] | loss 0.78\n",
      "| epoch 33 |  iter 1 / 10 | time 0[s] | loss 0.75\n",
      "| epoch 34 |  iter 1 / 10 | time 0[s] | loss 0.78\n",
      "| epoch 35 |  iter 1 / 10 | time 0[s] | loss 0.77\n",
      "| epoch 36 |  iter 1 / 10 | time 0[s] | loss 0.81\n",
      "| epoch 37 |  iter 1 / 10 | time 0[s] | loss 0.74\n",
      "| epoch 38 |  iter 1 / 10 | time 0[s] | loss 0.74\n",
      "| epoch 39 |  iter 1 / 10 | time 0[s] | loss 0.77\n",
      "| epoch 40 |  iter 1 / 10 | time 0[s] | loss 0.73\n",
      "| epoch 41 |  iter 1 / 10 | time 0[s] | loss 0.74\n",
      "| epoch 42 |  iter 1 / 10 | time 0[s] | loss 0.78\n",
      "| epoch 43 |  iter 1 / 10 | time 0[s] | loss 0.75\n",
      "| epoch 44 |  iter 1 / 10 | time 0[s] | loss 0.75\n",
      "| epoch 45 |  iter 1 / 10 | time 0[s] | loss 0.75\n",
      "| epoch 46 |  iter 1 / 10 | time 0[s] | loss 0.76\n",
      "| epoch 47 |  iter 1 / 10 | time 0[s] | loss 0.71\n",
      "| epoch 48 |  iter 1 / 10 | time 0[s] | loss 0.73\n",
      "| epoch 49 |  iter 1 / 10 | time 0[s] | loss 0.75\n",
      "| epoch 50 |  iter 1 / 10 | time 0[s] | loss 0.69\n",
      "| epoch 51 |  iter 1 / 10 | time 0[s] | loss 0.70\n",
      "| epoch 52 |  iter 1 / 10 | time 0[s] | loss 0.72\n",
      "| epoch 53 |  iter 1 / 10 | time 0[s] | loss 0.73\n",
      "| epoch 54 |  iter 1 / 10 | time 0[s] | loss 0.72\n",
      "| epoch 55 |  iter 1 / 10 | time 0[s] | loss 0.70\n",
      "| epoch 56 |  iter 1 / 10 | time 0[s] | loss 0.68\n",
      "| epoch 57 |  iter 1 / 10 | time 0[s] | loss 0.72\n",
      "| epoch 58 |  iter 1 / 10 | time 0[s] | loss 0.73\n",
      "| epoch 59 |  iter 1 / 10 | time 0[s] | loss 0.65\n",
      "| epoch 60 |  iter 1 / 10 | time 0[s] | loss 0.70\n",
      "| epoch 61 |  iter 1 / 10 | time 0[s] | loss 0.68\n",
      "| epoch 62 |  iter 1 / 10 | time 0[s] | loss 0.65\n",
      "| epoch 63 |  iter 1 / 10 | time 0[s] | loss 0.66\n",
      "| epoch 64 |  iter 1 / 10 | time 0[s] | loss 0.65\n",
      "| epoch 65 |  iter 1 / 10 | time 0[s] | loss 0.63\n",
      "| epoch 66 |  iter 1 / 10 | time 0[s] | loss 0.63\n",
      "| epoch 67 |  iter 1 / 10 | time 0[s] | loss 0.64\n",
      "| epoch 68 |  iter 1 / 10 | time 0[s] | loss 0.62\n",
      "| epoch 69 |  iter 1 / 10 | time 0[s] | loss 0.62\n",
      "| epoch 70 |  iter 1 / 10 | time 0[s] | loss 0.63\n",
      "| epoch 71 |  iter 1 / 10 | time 0[s] | loss 0.60\n",
      "| epoch 72 |  iter 1 / 10 | time 0[s] | loss 0.60\n",
      "| epoch 73 |  iter 1 / 10 | time 0[s] | loss 0.58\n",
      "| epoch 74 |  iter 1 / 10 | time 0[s] | loss 0.59\n",
      "| epoch 75 |  iter 1 / 10 | time 0[s] | loss 0.57\n",
      "| epoch 76 |  iter 1 / 10 | time 0[s] | loss 0.60\n",
      "| epoch 77 |  iter 1 / 10 | time 0[s] | loss 0.55\n",
      "| epoch 78 |  iter 1 / 10 | time 0[s] | loss 0.56\n",
      "| epoch 79 |  iter 1 / 10 | time 0[s] | loss 0.55\n",
      "| epoch 80 |  iter 1 / 10 | time 0[s] | loss 0.52\n",
      "| epoch 81 |  iter 1 / 10 | time 0[s] | loss 0.54\n",
      "| epoch 82 |  iter 1 / 10 | time 0[s] | loss 0.52\n",
      "| epoch 83 |  iter 1 / 10 | time 0[s] | loss 0.49\n",
      "| epoch 84 |  iter 1 / 10 | time 0[s] | loss 0.52\n",
      "| epoch 85 |  iter 1 / 10 | time 0[s] | loss 0.51\n",
      "| epoch 86 |  iter 1 / 10 | time 0[s] | loss 0.50\n",
      "| epoch 87 |  iter 1 / 10 | time 0[s] | loss 0.47\n",
      "| epoch 88 |  iter 1 / 10 | time 0[s] | loss 0.48\n",
      "| epoch 89 |  iter 1 / 10 | time 0[s] | loss 0.47\n",
      "| epoch 90 |  iter 1 / 10 | time 0[s] | loss 0.47\n",
      "| epoch 91 |  iter 1 / 10 | time 0[s] | loss 0.45\n",
      "| epoch 92 |  iter 1 / 10 | time 0[s] | loss 0.45\n",
      "| epoch 93 |  iter 1 / 10 | time 0[s] | loss 0.44\n",
      "| epoch 94 |  iter 1 / 10 | time 0[s] | loss 0.42\n",
      "| epoch 95 |  iter 1 / 10 | time 0[s] | loss 0.43\n",
      "| epoch 96 |  iter 1 / 10 | time 0[s] | loss 0.40\n",
      "| epoch 97 |  iter 1 / 10 | time 0[s] | loss 0.40\n",
      "| epoch 98 |  iter 1 / 10 | time 0[s] | loss 0.43\n",
      "| epoch 99 |  iter 1 / 10 | time 0[s] | loss 0.39\n",
      "| epoch 100 |  iter 1 / 10 | time 0[s] | loss 0.39\n",
      "| epoch 101 |  iter 1 / 10 | time 0[s] | loss 0.40\n",
      "| epoch 102 |  iter 1 / 10 | time 0[s] | loss 0.38\n",
      "| epoch 103 |  iter 1 / 10 | time 0[s] | loss 0.38\n",
      "| epoch 104 |  iter 1 / 10 | time 0[s] | loss 0.35\n",
      "| epoch 105 |  iter 1 / 10 | time 0[s] | loss 0.36\n",
      "| epoch 106 |  iter 1 / 10 | time 0[s] | loss 0.37\n",
      "| epoch 107 |  iter 1 / 10 | time 0[s] | loss 0.36\n",
      "| epoch 108 |  iter 1 / 10 | time 0[s] | loss 0.35\n",
      "| epoch 109 |  iter 1 / 10 | time 0[s] | loss 0.34\n",
      "| epoch 110 |  iter 1 / 10 | time 0[s] | loss 0.33\n",
      "| epoch 111 |  iter 1 / 10 | time 0[s] | loss 0.34\n",
      "| epoch 112 |  iter 1 / 10 | time 0[s] | loss 0.33\n",
      "| epoch 113 |  iter 1 / 10 | time 0[s] | loss 0.30\n",
      "| epoch 114 |  iter 1 / 10 | time 0[s] | loss 0.32\n",
      "| epoch 115 |  iter 1 / 10 | time 0[s] | loss 0.30\n",
      "| epoch 116 |  iter 1 / 10 | time 0[s] | loss 0.31\n",
      "| epoch 117 |  iter 1 / 10 | time 0[s] | loss 0.30\n",
      "| epoch 118 |  iter 1 / 10 | time 0[s] | loss 0.30\n",
      "| epoch 119 |  iter 1 / 10 | time 0[s] | loss 0.31\n",
      "| epoch 120 |  iter 1 / 10 | time 0[s] | loss 0.27\n",
      "| epoch 121 |  iter 1 / 10 | time 0[s] | loss 0.31\n",
      "| epoch 122 |  iter 1 / 10 | time 0[s] | loss 0.27\n",
      "| epoch 123 |  iter 1 / 10 | time 0[s] | loss 0.28\n",
      "| epoch 124 |  iter 1 / 10 | time 0[s] | loss 0.28\n",
      "| epoch 125 |  iter 1 / 10 | time 0[s] | loss 0.29\n",
      "| epoch 126 |  iter 1 / 10 | time 0[s] | loss 0.26\n",
      "| epoch 127 |  iter 1 / 10 | time 0[s] | loss 0.27\n",
      "| epoch 128 |  iter 1 / 10 | time 0[s] | loss 0.27\n",
      "| epoch 129 |  iter 1 / 10 | time 0[s] | loss 0.28\n",
      "| epoch 130 |  iter 1 / 10 | time 0[s] | loss 0.27\n",
      "| epoch 131 |  iter 1 / 10 | time 0[s] | loss 0.27\n",
      "| epoch 132 |  iter 1 / 10 | time 0[s] | loss 0.25\n",
      "| epoch 133 |  iter 1 / 10 | time 0[s] | loss 0.26\n",
      "| epoch 134 |  iter 1 / 10 | time 0[s] | loss 0.26\n",
      "| epoch 135 |  iter 1 / 10 | time 0[s] | loss 0.24\n",
      "| epoch 136 |  iter 1 / 10 | time 0[s] | loss 0.24\n",
      "| epoch 137 |  iter 1 / 10 | time 0[s] | loss 0.25\n",
      "| epoch 138 |  iter 1 / 10 | time 0[s] | loss 0.25\n",
      "| epoch 139 |  iter 1 / 10 | time 0[s] | loss 0.24\n",
      "| epoch 140 |  iter 1 / 10 | time 0[s] | loss 0.24\n",
      "| epoch 141 |  iter 1 / 10 | time 0[s] | loss 0.24\n",
      "| epoch 142 |  iter 1 / 10 | time 0[s] | loss 0.24\n",
      "| epoch 143 |  iter 1 / 10 | time 0[s] | loss 0.24\n",
      "| epoch 144 |  iter 1 / 10 | time 0[s] | loss 0.24\n",
      "| epoch 145 |  iter 1 / 10 | time 0[s] | loss 0.22\n",
      "| epoch 146 |  iter 1 / 10 | time 0[s] | loss 0.24\n",
      "| epoch 147 |  iter 1 / 10 | time 0[s] | loss 0.21\n",
      "| epoch 148 |  iter 1 / 10 | time 0[s] | loss 0.22\n",
      "| epoch 149 |  iter 1 / 10 | time 0[s] | loss 0.21\n",
      "| epoch 150 |  iter 1 / 10 | time 0[s] | loss 0.23\n",
      "| epoch 151 |  iter 1 / 10 | time 0[s] | loss 0.21\n",
      "| epoch 152 |  iter 1 / 10 | time 0[s] | loss 0.22\n",
      "| epoch 153 |  iter 1 / 10 | time 0[s] | loss 0.22\n",
      "| epoch 154 |  iter 1 / 10 | time 0[s] | loss 0.22\n",
      "| epoch 155 |  iter 1 / 10 | time 0[s] | loss 0.21\n",
      "| epoch 156 |  iter 1 / 10 | time 0[s] | loss 0.21\n",
      "| epoch 157 |  iter 1 / 10 | time 0[s] | loss 0.21\n",
      "| epoch 158 |  iter 1 / 10 | time 0[s] | loss 0.21\n",
      "| epoch 159 |  iter 1 / 10 | time 0[s] | loss 0.22\n",
      "| epoch 160 |  iter 1 / 10 | time 0[s] | loss 0.19\n",
      "| epoch 161 |  iter 1 / 10 | time 0[s] | loss 0.20\n",
      "| epoch 162 |  iter 1 / 10 | time 0[s] | loss 0.22\n",
      "| epoch 163 |  iter 1 / 10 | time 0[s] | loss 0.22\n",
      "| epoch 164 |  iter 1 / 10 | time 0[s] | loss 0.20\n",
      "| epoch 165 |  iter 1 / 10 | time 0[s] | loss 0.18\n",
      "| epoch 166 |  iter 1 / 10 | time 0[s] | loss 0.21\n",
      "| epoch 167 |  iter 1 / 10 | time 0[s] | loss 0.19\n",
      "| epoch 168 |  iter 1 / 10 | time 0[s] | loss 0.20\n",
      "| epoch 169 |  iter 1 / 10 | time 0[s] | loss 0.18\n",
      "| epoch 170 |  iter 1 / 10 | time 0[s] | loss 0.20\n",
      "| epoch 171 |  iter 1 / 10 | time 0[s] | loss 0.19\n",
      "| epoch 172 |  iter 1 / 10 | time 0[s] | loss 0.20\n",
      "| epoch 173 |  iter 1 / 10 | time 0[s] | loss 0.19\n",
      "| epoch 174 |  iter 1 / 10 | time 0[s] | loss 0.17\n",
      "| epoch 175 |  iter 1 / 10 | time 0[s] | loss 0.21\n",
      "| epoch 176 |  iter 1 / 10 | time 0[s] | loss 0.18\n",
      "| epoch 177 |  iter 1 / 10 | time 0[s] | loss 0.19\n",
      "| epoch 178 |  iter 1 / 10 | time 0[s] | loss 0.18\n",
      "| epoch 179 |  iter 1 / 10 | time 0[s] | loss 0.18\n",
      "| epoch 180 |  iter 1 / 10 | time 0[s] | loss 0.18\n",
      "| epoch 181 |  iter 1 / 10 | time 0[s] | loss 0.19\n",
      "| epoch 182 |  iter 1 / 10 | time 0[s] | loss 0.18\n",
      "| epoch 183 |  iter 1 / 10 | time 0[s] | loss 0.18\n",
      "| epoch 184 |  iter 1 / 10 | time 0[s] | loss 0.18\n",
      "| epoch 185 |  iter 1 / 10 | time 0[s] | loss 0.18\n",
      "| epoch 186 |  iter 1 / 10 | time 0[s] | loss 0.18\n",
      "| epoch 187 |  iter 1 / 10 | time 0[s] | loss 0.19\n",
      "| epoch 188 |  iter 1 / 10 | time 0[s] | loss 0.18\n",
      "| epoch 189 |  iter 1 / 10 | time 0[s] | loss 0.16\n",
      "| epoch 190 |  iter 1 / 10 | time 0[s] | loss 0.19\n",
      "| epoch 191 |  iter 1 / 10 | time 0[s] | loss 0.16\n",
      "| epoch 192 |  iter 1 / 10 | time 0[s] | loss 0.19\n",
      "| epoch 193 |  iter 1 / 10 | time 0[s] | loss 0.18\n",
      "| epoch 194 |  iter 1 / 10 | time 0[s] | loss 0.17\n"
     ]
    },
    {
     "name": "stdout",
     "output_type": "stream",
     "text": [
      "| epoch 195 |  iter 1 / 10 | time 0[s] | loss 0.17\n",
      "| epoch 196 |  iter 1 / 10 | time 0[s] | loss 0.17\n",
      "| epoch 197 |  iter 1 / 10 | time 0[s] | loss 0.16\n",
      "| epoch 198 |  iter 1 / 10 | time 0[s] | loss 0.17\n",
      "| epoch 199 |  iter 1 / 10 | time 0[s] | loss 0.17\n",
      "| epoch 200 |  iter 1 / 10 | time 0[s] | loss 0.18\n",
      "| epoch 201 |  iter 1 / 10 | time 0[s] | loss 0.17\n",
      "| epoch 202 |  iter 1 / 10 | time 0[s] | loss 0.17\n",
      "| epoch 203 |  iter 1 / 10 | time 0[s] | loss 0.17\n",
      "| epoch 204 |  iter 1 / 10 | time 0[s] | loss 0.17\n",
      "| epoch 205 |  iter 1 / 10 | time 0[s] | loss 0.16\n",
      "| epoch 206 |  iter 1 / 10 | time 0[s] | loss 0.18\n",
      "| epoch 207 |  iter 1 / 10 | time 0[s] | loss 0.17\n",
      "| epoch 208 |  iter 1 / 10 | time 0[s] | loss 0.16\n",
      "| epoch 209 |  iter 1 / 10 | time 0[s] | loss 0.17\n",
      "| epoch 210 |  iter 1 / 10 | time 0[s] | loss 0.15\n",
      "| epoch 211 |  iter 1 / 10 | time 0[s] | loss 0.16\n",
      "| epoch 212 |  iter 1 / 10 | time 0[s] | loss 0.15\n",
      "| epoch 213 |  iter 1 / 10 | time 0[s] | loss 0.17\n",
      "| epoch 214 |  iter 1 / 10 | time 0[s] | loss 0.15\n",
      "| epoch 215 |  iter 1 / 10 | time 0[s] | loss 0.16\n",
      "| epoch 216 |  iter 1 / 10 | time 0[s] | loss 0.15\n",
      "| epoch 217 |  iter 1 / 10 | time 0[s] | loss 0.17\n",
      "| epoch 218 |  iter 1 / 10 | time 0[s] | loss 0.15\n",
      "| epoch 219 |  iter 1 / 10 | time 0[s] | loss 0.15\n",
      "| epoch 220 |  iter 1 / 10 | time 0[s] | loss 0.17\n",
      "| epoch 221 |  iter 1 / 10 | time 0[s] | loss 0.16\n",
      "| epoch 222 |  iter 1 / 10 | time 0[s] | loss 0.15\n",
      "| epoch 223 |  iter 1 / 10 | time 0[s] | loss 0.16\n",
      "| epoch 224 |  iter 1 / 10 | time 0[s] | loss 0.15\n",
      "| epoch 225 |  iter 1 / 10 | time 0[s] | loss 0.17\n",
      "| epoch 226 |  iter 1 / 10 | time 0[s] | loss 0.14\n",
      "| epoch 227 |  iter 1 / 10 | time 0[s] | loss 0.17\n",
      "| epoch 228 |  iter 1 / 10 | time 0[s] | loss 0.16\n",
      "| epoch 229 |  iter 1 / 10 | time 0[s] | loss 0.14\n",
      "| epoch 230 |  iter 1 / 10 | time 0[s] | loss 0.15\n",
      "| epoch 231 |  iter 1 / 10 | time 0[s] | loss 0.13\n",
      "| epoch 232 |  iter 1 / 10 | time 0[s] | loss 0.17\n",
      "| epoch 233 |  iter 1 / 10 | time 0[s] | loss 0.15\n",
      "| epoch 234 |  iter 1 / 10 | time 0[s] | loss 0.14\n",
      "| epoch 235 |  iter 1 / 10 | time 0[s] | loss 0.16\n",
      "| epoch 236 |  iter 1 / 10 | time 0[s] | loss 0.15\n",
      "| epoch 237 |  iter 1 / 10 | time 0[s] | loss 0.14\n",
      "| epoch 238 |  iter 1 / 10 | time 0[s] | loss 0.16\n",
      "| epoch 239 |  iter 1 / 10 | time 0[s] | loss 0.14\n",
      "| epoch 240 |  iter 1 / 10 | time 0[s] | loss 0.15\n",
      "| epoch 241 |  iter 1 / 10 | time 0[s] | loss 0.14\n",
      "| epoch 242 |  iter 1 / 10 | time 0[s] | loss 0.15\n",
      "| epoch 243 |  iter 1 / 10 | time 0[s] | loss 0.18\n",
      "| epoch 244 |  iter 1 / 10 | time 0[s] | loss 0.14\n",
      "| epoch 245 |  iter 1 / 10 | time 0[s] | loss 0.14\n",
      "| epoch 246 |  iter 1 / 10 | time 0[s] | loss 0.15\n",
      "| epoch 247 |  iter 1 / 10 | time 0[s] | loss 0.15\n",
      "| epoch 248 |  iter 1 / 10 | time 0[s] | loss 0.14\n",
      "| epoch 249 |  iter 1 / 10 | time 0[s] | loss 0.14\n",
      "| epoch 250 |  iter 1 / 10 | time 0[s] | loss 0.15\n",
      "| epoch 251 |  iter 1 / 10 | time 0[s] | loss 0.14\n",
      "| epoch 252 |  iter 1 / 10 | time 0[s] | loss 0.14\n",
      "| epoch 253 |  iter 1 / 10 | time 0[s] | loss 0.15\n",
      "| epoch 254 |  iter 1 / 10 | time 0[s] | loss 0.15\n",
      "| epoch 255 |  iter 1 / 10 | time 0[s] | loss 0.13\n",
      "| epoch 256 |  iter 1 / 10 | time 0[s] | loss 0.13\n",
      "| epoch 257 |  iter 1 / 10 | time 0[s] | loss 0.14\n",
      "| epoch 258 |  iter 1 / 10 | time 0[s] | loss 0.14\n",
      "| epoch 259 |  iter 1 / 10 | time 0[s] | loss 0.13\n",
      "| epoch 260 |  iter 1 / 10 | time 0[s] | loss 0.13\n",
      "| epoch 261 |  iter 1 / 10 | time 0[s] | loss 0.14\n",
      "| epoch 262 |  iter 1 / 10 | time 0[s] | loss 0.14\n",
      "| epoch 263 |  iter 1 / 10 | time 0[s] | loss 0.14\n",
      "| epoch 264 |  iter 1 / 10 | time 0[s] | loss 0.14\n",
      "| epoch 265 |  iter 1 / 10 | time 0[s] | loss 0.14\n",
      "| epoch 266 |  iter 1 / 10 | time 0[s] | loss 0.13\n",
      "| epoch 267 |  iter 1 / 10 | time 0[s] | loss 0.13\n",
      "| epoch 268 |  iter 1 / 10 | time 0[s] | loss 0.14\n",
      "| epoch 269 |  iter 1 / 10 | time 0[s] | loss 0.12\n",
      "| epoch 270 |  iter 1 / 10 | time 0[s] | loss 0.14\n",
      "| epoch 271 |  iter 1 / 10 | time 0[s] | loss 0.12\n",
      "| epoch 272 |  iter 1 / 10 | time 0[s] | loss 0.15\n",
      "| epoch 273 |  iter 1 / 10 | time 0[s] | loss 0.12\n",
      "| epoch 274 |  iter 1 / 10 | time 0[s] | loss 0.15\n",
      "| epoch 275 |  iter 1 / 10 | time 0[s] | loss 0.12\n",
      "| epoch 276 |  iter 1 / 10 | time 0[s] | loss 0.13\n",
      "| epoch 277 |  iter 1 / 10 | time 0[s] | loss 0.13\n",
      "| epoch 278 |  iter 1 / 10 | time 0[s] | loss 0.13\n",
      "| epoch 279 |  iter 1 / 10 | time 0[s] | loss 0.13\n",
      "| epoch 280 |  iter 1 / 10 | time 0[s] | loss 0.14\n",
      "| epoch 281 |  iter 1 / 10 | time 0[s] | loss 0.14\n",
      "| epoch 282 |  iter 1 / 10 | time 0[s] | loss 0.14\n",
      "| epoch 283 |  iter 1 / 10 | time 0[s] | loss 0.13\n",
      "| epoch 284 |  iter 1 / 10 | time 0[s] | loss 0.12\n",
      "| epoch 285 |  iter 1 / 10 | time 0[s] | loss 0.13\n",
      "| epoch 286 |  iter 1 / 10 | time 0[s] | loss 0.14\n",
      "| epoch 287 |  iter 1 / 10 | time 0[s] | loss 0.14\n",
      "| epoch 288 |  iter 1 / 10 | time 0[s] | loss 0.12\n",
      "| epoch 289 |  iter 1 / 10 | time 0[s] | loss 0.13\n",
      "| epoch 290 |  iter 1 / 10 | time 0[s] | loss 0.12\n",
      "| epoch 291 |  iter 1 / 10 | time 1[s] | loss 0.12\n",
      "| epoch 292 |  iter 1 / 10 | time 1[s] | loss 0.14\n",
      "| epoch 293 |  iter 1 / 10 | time 1[s] | loss 0.12\n",
      "| epoch 294 |  iter 1 / 10 | time 1[s] | loss 0.13\n",
      "| epoch 295 |  iter 1 / 10 | time 1[s] | loss 0.13\n",
      "| epoch 296 |  iter 1 / 10 | time 1[s] | loss 0.12\n",
      "| epoch 297 |  iter 1 / 10 | time 1[s] | loss 0.13\n",
      "| epoch 298 |  iter 1 / 10 | time 1[s] | loss 0.11\n",
      "| epoch 299 |  iter 1 / 10 | time 1[s] | loss 0.12\n",
      "| epoch 300 |  iter 1 / 10 | time 1[s] | loss 0.14\n"
     ]
    },
    {
     "data": {
      "image/png": "[encoded data removed]",
      "text/plain": [
       "<matplotlib.figure.Figure at 0x207d0a90048>"
      ]
     },
     "metadata": {},
     "output_type": "display_data"
    }
   ],
   "source": [
    "x, t = spiral.load_data()\n",
    "model = TwoLayerNet(input_size = 2, hidden_size= hidden_size, output_size = 3)\n",
    "optimizer = SGD(lr = learning_rate)\n",
    "\n",
    "trainer = Trainer(model, optimizer)\n",
    "trainer.fit(x, t, max_epoch, batch_size, eval_interval=10)\n",
    "trainer.plot()"
   ]
  },
  {
   "cell_type": "markdown",
   "metadata": {},
   "source": [
    "## 計算の高速化"
   ]
  },
  {
   "cell_type": "markdown",
   "metadata": {},
   "source": [
    "### 単精度の利用\n",
    "\n",
    "ニューラルネットワークでは一般にデータの転送速度が問題となるため、\n",
    "データ自体は小さい方が良い。その意味では単精度でも十分な精度のもと\n",
    "学習が可能であるため、単精度を用いる方が高速になる. \n",
    "\n",
    "numpyには16バイト型もあるが計算上は32バイトで行われるため、32バイトで値を持っていれば良い. \n"
   ]
  },
  {
   "cell_type": "code",
   "execution_count": 23,
   "metadata": {},
   "outputs": [
    {
     "data": {
      "text/plain": [
       "dtype('float32')"
      ]
     },
     "execution_count": 23,
     "metadata": {},
     "output_type": "execute_result"
    }
   ],
   "source": [
    "b = np.random.randn(3).astype(np.float32)\n",
    "b.dtype"
   ]
  }
 ],
 "metadata": {
  "kernelspec": {
   "display_name": "Python 3",
   "language": "python",
   "name": "python3"
  },
  "language_info": {
   "codemirror_mode": {
    "name": "ipython",
    "version": 3
   },
   "file_extension": ".py",
   "mimetype": "text/x-python",
   "name": "python",
   "nbconvert_exporter": "python",
   "pygments_lexer": "ipython3",
   "version": "3.6.4"
  },
  "latex_envs": {
   "LaTeX_envs_menu_present": true,
   "autoclose": false,
   "autocomplete": true,
   "bibliofile": "biblio.bib",
   "cite_by": "apalike",
   "current_citInitial": 1,
   "eqLabelWithNumbers": true,
   "eqNumInitial": 1,
   "hotkeys": {
    "equation": "Ctrl-E",
    "itemize": "Ctrl-I"
   },
   "labels_anchors": false,
   "latex_user_defs": false,
   "report_style_numbering": false,
   "user_envs_cfg": false
  },
  "toc": {
   "base_numbering": 1,
   "nav_menu": {
    "height": "350px",
    "width": "762px"
   },
   "number_sections": true,
   "sideBar": true,
   "skip_h1_title": false,
   "title_cell": "Table of Contents",
   "title_sidebar": "Contents",
   "toc_cell": false,
   "toc_position": {
    "height": "calc(100% - 180px)",
    "left": "10px",
    "top": "150px",
    "width": "165px"
   },
   "toc_section_display": true,
   "toc_window_display": false
  }
 },
 "nbformat": 4,
 "nbformat_minor": 2
}
